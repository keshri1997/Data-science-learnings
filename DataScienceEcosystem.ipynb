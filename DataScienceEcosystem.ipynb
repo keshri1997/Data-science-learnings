{
 "cells": [
  {
   "cell_type": "markdown",
   "id": "550aaa4c-4610-4e87-b926-17aa57e91988",
   "metadata": {},
   "source": [
    "# Data Science Tools and Ecosystems"
   ]
  },
  {
   "cell_type": "markdown",
   "id": "b3c496a4-f5d9-46cb-87bc-5912ea8e8f72",
   "metadata": {},
   "source": [
    "In this notebook, Data Science Tools and Ecosystem are summarized."
   ]
  },
  {
   "cell_type": "markdown",
   "id": "ae7e9517-5c47-4ea5-8270-bb3ac4d485ee",
   "metadata": {},
   "source": [
    "**Objectives:**\n",
    "- popular languages that Data Scientists use\n",
    "- popular libraries that Data Scientists use\n",
    "- popular data science tools that Data Scientists use"
   ]
  },
  {
   "cell_type": "markdown",
   "id": "6f76b345-171a-4ecf-866a-fa9db602f8da",
   "metadata": {},
   "source": [
    "Some of the popular languages that Data Scientists use are:\n",
    "1. Python\n",
    "2. R\n",
    "3. Scala"
   ]
  },
  {
   "cell_type": "markdown",
   "id": "11d24244-8700-4d16-a841-42963bdf64cd",
   "metadata": {},
   "source": [
    "Some of the commonly used libraries used by Data Scientists include:\n",
    "1. Scikit-learn\n",
    "2. Scipy\n",
    "3. TensorFlow"
   ]
  },
  {
   "cell_type": "markdown",
   "id": "053ab063-8978-476d-8972-35587f3b0775",
   "metadata": {},
   "source": [
    "| Data Science Tools        |\n",
    "|---------------------------|\n",
    "| Jupyter Notebook          |\n",
    "| RStudio                   |\n",
    "| Watson Studio             |"
   ]
  },
  {
   "cell_type": "markdown",
   "id": "f2516527-26cb-43a8-b247-0529f0a5c471",
   "metadata": {},
   "source": [
    "### Below are a few examples of evaluating arithmetic expressions in Python"
   ]
  },
  {
   "cell_type": "code",
   "execution_count": 1,
   "id": "10a11b9c-cca3-4e69-ab2b-08a38623a456",
   "metadata": {},
   "outputs": [
    {
     "data": {
      "text/plain": [
       "17"
      ]
     },
     "execution_count": 1,
     "metadata": {},
     "output_type": "execute_result"
    }
   ],
   "source": [
    "#This a simple arithmetic expression to mutiply then add integers\n",
    "(3*4)+5"
   ]
  },
  {
   "cell_type": "code",
   "execution_count": 4,
   "id": "b6b97158-e294-4841-9b5e-884c1be9e9cc",
   "metadata": {},
   "outputs": [
    {
     "data": {
      "text/plain": [
       "3.3333333333333335"
      ]
     },
     "execution_count": 4,
     "metadata": {},
     "output_type": "execute_result"
    }
   ],
   "source": [
    "#This will convert 200 minutes to hours by diving by 60\n",
    "200/60"
   ]
  },
  {
   "cell_type": "markdown",
   "id": "b1562987-0ade-40b2-aa64-3e5e70111662",
   "metadata": {},
   "source": [
    "## Author\n",
    "Kanchan"
   ]
  },
  {
   "cell_type": "code",
   "execution_count": null,
   "id": "3c86a405-6b58-48d7-9a5c-751f6243dd02",
   "metadata": {},
   "outputs": [],
   "source": []
  }
 ],
 "metadata": {
  "kernelspec": {
   "display_name": "Python 3 (ipykernel)",
   "language": "python",
   "name": "python3"
  },
  "language_info": {
   "codemirror_mode": {
    "name": "ipython",
    "version": 3
   },
   "file_extension": ".py",
   "mimetype": "text/x-python",
   "name": "python",
   "nbconvert_exporter": "python",
   "pygments_lexer": "ipython3",
   "version": "3.12.0"
  }
 },
 "nbformat": 4,
 "nbformat_minor": 5
}
